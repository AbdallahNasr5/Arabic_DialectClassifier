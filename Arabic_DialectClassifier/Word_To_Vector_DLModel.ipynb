{
  "cells": [
    {
      "cell_type": "code",
      "execution_count": null,
      "metadata": {
        "id": "mLrO_PYxIo5I"
      },
      "outputs": [],
      "source": [
        "import pandas as pd\n",
        "import nltk\n",
        "import numpy as np\n",
        "from gensim.models import Word2Vec\n",
        "from os import listdir\n",
        "from numpy import array\n",
        "from numpy import asarray\n",
        "from numpy import zeros\n",
        "from keras.preprocessing.text import Tokenizer\n",
        "from keras.preprocessing.sequence import pad_sequences\n",
        "from keras.models import Sequential\n",
        "from keras.layers import Dense\n",
        "from keras.layers import Flatten\n",
        "from keras.layers import Embedding\n",
        "from keras.layers.convolutional import Conv1D\n",
        "from keras.layers.convolutional import MaxPooling1D\n",
        "import gensim\n",
        "from sklearn.model_selection import train_test_split\n",
        "from keras.preprocessing.text import Tokenizer\n",
        "from keras.preprocessing.sequence import pad_sequences\n",
        "from keras.models import *\n",
        "from keras.layers import *\n",
        "from keras.callbacks import *\n",
        "from keras import preprocessing\n",
        "from keras.preprocessing import sequence\n",
        "import keras\n",
        "from sklearn import metrics\n",
        "import gensim\n",
        "from keras.utils import np_utils"
      ]
    },
    {
      "cell_type": "code",
      "execution_count": null,
      "metadata": {
        "colab": {
          "base_uri": "https://localhost:8080/"
        },
        "id": "tEDzJh1RIw-2",
        "outputId": "2a7eb174-5710-4dd4-f277-017b29b6b44d"
      },
      "outputs": [
        {
          "name": "stdout",
          "output_type": "stream",
          "text": [
            "Mounted at /content/drive\n"
          ]
        }
      ],
      "source": [
        "from google.colab import drive\n",
        "drive.mount('/content/drive')"
      ]
    },
    {
      "cell_type": "code",
      "execution_count": null,
      "metadata": {
        "id": "QT6zzsXeI0J9"
      },
      "outputs": [],
      "source": [
        "docs = pd.read_csv('/content/drive/MyDrive/data_cleaned_1.csv')\n",
        "docs = docs.dropna()\n",
        "docs['dialect_cat'] = docs['dialect'].factorize()[0]\n",
        "docs['text'] = docs['text'].astype(str)\n",
        "docs['dialect'] = docs['dialect'].astype(str)"
      ]
    },
    {
      "cell_type": "markdown",
      "metadata": {},
      "source": [
        "##Tokenizing the date to fit the word2vector model"
      ]
    },
    {
      "cell_type": "code",
      "execution_count": null,
      "metadata": {
        "id": "hw02dLO8KdX9"
      },
      "outputs": [],
      "source": [
        "review_text = docs.text.apply(gensim.utils.simple_preprocess)"
      ]
    },
    {
      "cell_type": "code",
      "execution_count": null,
      "metadata": {
        "colab": {
          "base_uri": "https://localhost:8080/"
        },
        "id": "2RF19bKnK0fr",
        "outputId": "4c02d553-4c77-4518-e6e8-07a442fba55f"
      },
      "outputs": [
        {
          "data": {
            "text/plain": [
              "0                                   [بالنهاية, ينتفض, يغير]\n",
              "1         [يعني, محسوب, البشر, حيونه, ووحشيه, وتطلبون, ا...\n",
              "2                                      [مبين, كلامه, خليجي]\n",
              "3                            [يسلملي, مرورك, وروحك, الحلوه]\n",
              "4                                   [وين, الغيبه, اخ, محمد]\n",
              "                                ...                        \n",
              "457996                              [بالعافيه, فقلي, الاكل]\n",
              "457997                                           [مدح, يبي]\n",
              "457998    [ايييي, احبها, واحب, طاوله, للكرك, ويفضل, ان, ...\n",
              "457999               [جيبي, مطرقه, شوفي, اهدم, واهدم, ابوه]\n",
              "458000    [شنو, ميزان, وشنو, شنووو, المهم, ماعلينا, خلين...\n",
              "Name: text, Length: 457967, dtype: object"
            ]
          },
          "execution_count": 9,
          "metadata": {},
          "output_type": "execute_result"
        }
      ],
      "source": [
        "review_text"
      ]
    },
    {
      "cell_type": "code",
      "execution_count": null,
      "metadata": {
        "id": "VVzy2pa1LDui"
      },
      "outputs": [],
      "source": [
        "model = gensim.models.Word2Vec(\n",
        "    window=10,\n",
        "    min_count=2\n",
        ")"
      ]
    },
    {
      "cell_type": "code",
      "execution_count": null,
      "metadata": {
        "id": "3EvydP3ILNWS"
      },
      "outputs": [],
      "source": [
        "model.build_vocab(review_text, progress_per=1000)"
      ]
    },
    {
      "cell_type": "code",
      "execution_count": null,
      "metadata": {
        "colab": {
          "base_uri": "https://localhost:8080/"
        },
        "id": "l-PZ2-iuLQzq",
        "outputId": "c691236a-668b-4425-ed39-8a2309eff696"
      },
      "outputs": [
        {
          "data": {
            "text/plain": [
              "(21941008, 24235990)"
            ]
          },
          "execution_count": 12,
          "metadata": {},
          "output_type": "execute_result"
        }
      ],
      "source": [
        "model.train(review_text, total_examples=model.corpus_count, epochs=model.epochs)"
      ]
    },
    {
      "cell_type": "code",
      "execution_count": null,
      "metadata": {
        "colab": {
          "base_uri": "https://localhost:8080/"
        },
        "id": "1dIQGfWJLv9K",
        "outputId": "c524df1c-63b5-4337-a6c6-a2986bcb46de"
      },
      "outputs": [],
      "source": [
        "learned_words = list(model.wv.vocab)\n",
        "learned_words"
      ]
    },
    {
      "cell_type": "code",
      "execution_count": null,
      "metadata": {
        "colab": {
          "base_uri": "https://localhost:8080/"
        },
        "id": "k7_t1DKXMIpT",
        "outputId": "6a8cab27-804b-4148-9d3c-63e6b7e9d881"
      },
      "outputs": [
        {
          "data": {
            "text/plain": [
              "[('المصريين', 0.831017255783081),\n",
              " ('تونس', 0.8219223022460938),\n",
              " ('ليبيا', 0.8008831143379211),\n",
              " ('السودان', 0.7911624908447266),\n",
              " ('دول', 0.7898327708244324),\n",
              " ('السعودية', 0.7621197700500488),\n",
              " ('الجزائر', 0.7568091750144958),\n",
              " ('الاخوان', 0.7526887655258179),\n",
              " ('نكسجية', 0.7330007553100586),\n",
              " ('السيسي', 0.7294926643371582)]"
            ]
          },
          "execution_count": 16,
          "metadata": {},
          "output_type": "execute_result"
        }
      ],
      "source": [
        "## Testing the model cosine similarity\n",
        "model.wv.most_similar('مصر')"
      ]
    },
    {
      "cell_type": "code",
      "execution_count": null,
      "metadata": {
        "colab": {
          "base_uri": "https://localhost:8080/"
        },
        "id": "2UWGcXB5MQfC",
        "outputId": "f36d5f8c-87a1-4ce4-9abd-21e621f10e34"
      },
      "outputs": [
        {
          "name": "stderr",
          "output_type": "stream",
          "text": [
            "/usr/local/lib/python3.7/dist-packages/ipykernel_launcher.py:1: DeprecationWarning: Call to deprecated `syn0` (Attribute will be removed in 4.0.0, use self.wv.vectors instead).\n",
            "  \"\"\"Entry point for launching an IPython kernel.\n"
          ]
        }
      ],
      "source": [
        "## reshaping the model into a dictionary of words and indices\n",
        "w2v = dict(zip(model.wv.index2word, model.wv.syn0))"
      ]
    },
    {
      "cell_type": "markdown",
      "metadata": {},
      "source": [
        "## Creating embedding matrix from the Word2vector model"
      ]
    },
    {
      "cell_type": "code",
      "execution_count": null,
      "metadata": {
        "id": "gHboM7F6MZMh"
      },
      "outputs": [],
      "source": [
        "tok = Tokenizer()\n",
        "tok.fit_on_texts(docs['text'])\n",
        "vocab_size = len(tok.word_index) + 1\n",
        "encd_rev = tok.texts_to_sequences(docs['text'])"
      ]
    },
    {
      "cell_type": "code",
      "execution_count": null,
      "metadata": {
        "id": "ysuAbq8COOyw"
      },
      "outputs": [],
      "source": [
        "max_rev_len=150  # max lenght of a review\n",
        "vocab_size = len(tok.word_index) + 1  # total no of words\n",
        "embed_dim=100 # embedding dimension as choosen in word2vec constructor \"\"default\""
      ]
    },
    {
      "cell_type": "code",
      "execution_count": null,
      "metadata": {
        "colab": {
          "base_uri": "https://localhost:8080/"
        },
        "id": "CCh0hqKVOlEX",
        "outputId": "85d481a1-8ade-47da-b50f-56683f92df43"
      },
      "outputs": [
        {
          "data": {
            "text/plain": [
              "(457967, 150)"
            ]
          },
          "execution_count": 20,
          "metadata": {},
          "output_type": "execute_result"
        }
      ],
      "source": [
        "pad_rev= pad_sequences(encd_rev, maxlen=max_rev_len, padding='post')\n",
        "pad_rev.shape "
      ]
    },
    {
      "cell_type": "code",
      "execution_count": null,
      "metadata": {
        "id": "ThTKACBZOoR3"
      },
      "outputs": [],
      "source": [
        "embed_matrix=np.zeros(shape=(vocab_size,embed_dim))\n",
        "for word,i in tok.word_index.items():\n",
        "  embed_vector=w2v.get(word)\n",
        "  if embed_vector is not None:  # word is in the vocabulary learned by the w2v model\n",
        "    embed_matrix[i]=embed_vector\n",
        "  # if word is not found then embed_vector corressponding to that vector will stay zero."
      ]
    },
    {
      "cell_type": "code",
      "execution_count": null,
      "metadata": {
        "colab": {
          "base_uri": "https://localhost:8080/"
        },
        "id": "8Q_Je8pIOujH",
        "outputId": "80633db4-32a0-45fa-c8d7-407db219cbc1"
      },
      "outputs": [
        {
          "name": "stdout",
          "output_type": "stream",
          "text": [
            "[-2.36224318 -0.14007881  0.95432329  1.11853325 -2.80964637  0.04868238\n",
            "  2.40537667  0.74275243 -1.246315    0.81614244  0.18675432  1.06637359\n",
            "  4.68978643  0.78807408 -0.14891374 -0.64276379  5.38169956 -0.25556257\n",
            " -1.35947752 -3.3997314  -1.17615819  1.07217145  2.25972748  0.55375522\n",
            " -3.56282854 -1.28496182 -1.0118959  -2.62956524 -1.10496879  0.901335\n",
            " -0.6554178  -1.0120455  -1.98248076 -1.04443014  3.57782769 -0.44859731\n",
            "  0.74742866  0.52487385  0.27980724  3.52815151 -1.07006311  4.51724815\n",
            "  0.51498705  0.36560112 -0.16472706 -1.65774369 -1.81995881 -1.04331732\n",
            "  1.90272498  3.44427681 -1.5019201   1.48719907  1.64984727  0.19379373\n",
            "  1.46014619  4.84286547  0.02903775 -0.90826356 -1.15646887  1.95957625\n",
            " -0.77025723 -1.31562757  0.94259489 -2.65476918 -0.54953468  1.63329279\n",
            "  4.21494102 -0.51576746 -1.64357376 -0.33046603  0.89141369  1.68479264\n",
            " -1.0021888   0.055743    3.2873826  -1.8529532   0.59190744 -0.49862906\n",
            "  3.54263592 -1.19309032 -3.20725369  0.36701366  0.894333    2.27301931\n",
            "  3.04558182 -1.27218688  1.06768     2.27626538 -4.12310362  0.18504865\n",
            "  3.58097124  2.16976953  0.19564654 -0.63175398  2.90290713 -2.3868742\n",
            "  0.78935736 -1.33856416  2.72956681 -1.07692981]\n"
          ]
        }
      ],
      "source": [
        "print(embed_matrix[14])"
      ]
    },
    {
      "cell_type": "code",
      "execution_count": null,
      "metadata": {
        "id": "DQMVLXLKOwg3"
      },
      "outputs": [],
      "source": [
        "Y=keras.utils.np_utils.to_categorical(docs['dialect_cat'])  # one hot target\n",
        "x_train,x_test,y_train,y_test=train_test_split(pad_rev,Y,test_size=0.20,random_state=42)"
      ]
    },
    {
      "cell_type": "markdown",
      "metadata": {},
      "source": [
        "##Training CNN model"
      ]
    },
    {
      "cell_type": "code",
      "execution_count": null,
      "metadata": {
        "colab": {
          "base_uri": "https://localhost:8080/"
        },
        "id": "lQ3aiN2AO21x",
        "outputId": "15ebf884-7bbd-4942-b676-8e757dfa917c"
      },
      "outputs": [
        {
          "name": "stdout",
          "output_type": "stream",
          "text": [
            "Model: \"sequential\"\n",
            "_________________________________________________________________\n",
            " Layer (type)                Output Shape              Param #   \n",
            "=================================================================\n",
            " embedding (Embedding)       (None, 150, 100)          52167000  \n",
            "                                                                 \n",
            " conv1d (Conv1D)             (None, 150, 32)           9632      \n",
            "                                                                 \n",
            " dropout (Dropout)           (None, 150, 32)           0         \n",
            "                                                                 \n",
            " max_pooling1d (MaxPooling1D  (None, 75, 32)           0         \n",
            " )                                                               \n",
            "                                                                 \n",
            " flatten (Flatten)           (None, 2400)              0         \n",
            "                                                                 \n",
            " dense (Dense)               (None, 250)               600250    \n",
            "                                                                 \n",
            " dropout_1 (Dropout)         (None, 250)               0         \n",
            "                                                                 \n",
            " dense_1 (Dense)             (None, 18)                4518      \n",
            "                                                                 \n",
            "=================================================================\n",
            "Total params: 52,781,400\n",
            "Trainable params: 52,781,400\n",
            "Non-trainable params: 0\n",
            "_________________________________________________________________\n"
          ]
        }
      ],
      "source": [
        "from keras.initializers import Constant\n",
        "from keras.layers import ReLU\n",
        "from keras.layers import Dropout\n",
        "model=Sequential()\n",
        "model.add(Embedding(input_dim=vocab_size,output_dim=embed_dim,input_length=max_rev_len,embeddings_initializer=Constant(embed_matrix)))\n",
        "model.add(Conv1D(32, 3, padding='same', activation='relu'))\n",
        "model.add(Dropout(0.2))\n",
        "model.add(MaxPooling1D())\n",
        "model.add(Flatten())\n",
        "model.add(Dense(250, activation='relu'))\n",
        "model.add(Dropout(0.2))\n",
        "model.add(Dense(18, activation='softmax'))\n",
        "model.compile(loss='categorical_crossentropy', optimizer='adam', metrics=['accuracy'])\n",
        "model.summary()"
      ]
    },
    {
      "cell_type": "code",
      "execution_count": null,
      "metadata": {
        "colab": {
          "base_uri": "https://localhost:8080/"
        },
        "id": "DoU7EQk5PtBX",
        "outputId": "e162196d-5d4f-4a98-964f-6e45f30aae72"
      },
      "outputs": [
        {
          "name": "stdout",
          "output_type": "stream",
          "text": [
            "Epoch 1/5\n",
            "5725/5725 [==============================] - 300s 51ms/step - loss: 2.0451 - accuracy: 0.3454 - val_loss: 1.7308 - val_accuracy: 0.4484\n",
            "Epoch 2/5\n",
            "5725/5725 [==============================] - 288s 50ms/step - loss: 1.4569 - accuracy: 0.5326 - val_loss: 1.6621 - val_accuracy: 0.4840\n",
            "Epoch 3/5\n",
            "5725/5725 [==============================] - 290s 51ms/step - loss: 1.0243 - accuracy: 0.6758 - val_loss: 1.8204 - val_accuracy: 0.4763\n",
            "Epoch 4/5\n",
            "5725/5725 [==============================] - 290s 51ms/step - loss: 0.7617 - accuracy: 0.7615 - val_loss: 2.1142 - val_accuracy: 0.4642\n",
            "Epoch 5/5\n",
            "5725/5725 [==============================] - 291s 51ms/step - loss: 0.6123 - accuracy: 0.8081 - val_loss: 2.4361 - val_accuracy: 0.4584\n"
          ]
        },
        {
          "data": {
            "text/plain": [
              "<keras.callbacks.History at 0x7ff5b0d5c7d0>"
            ]
          },
          "execution_count": 32,
          "metadata": {},
          "output_type": "execute_result"
        }
      ],
      "source": [
        "model.fit(x_train,y_train,epochs=5,batch_size=64,validation_data=(x_test,y_test))"
      ]
    },
    {
      "cell_type": "code",
      "execution_count": null,
      "metadata": {
        "id": "zM5PfdQbP7pG"
      },
      "outputs": [],
      "source": []
    }
  ],
  "metadata": {
    "accelerator": "GPU",
    "colab": {
      "name": "Word_To_Vector.ipynb",
      "provenance": []
    },
    "kernelspec": {
      "display_name": "Python 3",
      "name": "python3"
    },
    "language_info": {
      "name": "python"
    }
  },
  "nbformat": 4,
  "nbformat_minor": 0
}
