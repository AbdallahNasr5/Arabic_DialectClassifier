{
  "cells": [
    {
      "cell_type": "code",
      "execution_count": 17,
      "metadata": {
        "id": "e9EMwy_pwrKx"
      },
      "outputs": [],
      "source": [
        "import pandas as pd\n",
        "import re\n",
        "import seaborn as sns\n",
        "import numpy as np\n",
        "import matplotlib.pyplot as plt\n",
        "from collections import Counter\n",
        "from sklearn.feature_extraction.text import CountVectorizer\n",
        "from nltk.probability import FreqDist\n",
        "import nltk\n",
        "from sklearn.feature_extraction.text import TfidfVectorizer\n",
        "from sklearn.feature_selection import chi2\n",
        "from sklearn.model_selection import train_test_split\n",
        "from sklearn.feature_extraction.text import TfidfTransformer\n",
        "from sklearn.naive_bayes import MultinomialNB\n",
        "from sklearn.linear_model import LogisticRegression\n",
        "from sklearn.ensemble import RandomForestClassifier\n",
        "from sklearn.svm import LinearSVC\n",
        "from sklearn.model_selection import cross_val_score\n",
        "from sklearn.metrics import confusion_matrix\n",
        "from sklearn import metrics\n",
        "from sklearn.feature_extraction.text import TfidfVectorizer"
      ]
    },
    {
      "cell_type": "code",
      "execution_count": 2,
      "metadata": {
        "colab": {
          "base_uri": "https://localhost:8080/"
        },
        "id": "tp_7kMm7xx7w",
        "outputId": "ef5c7ab9-94fa-40ab-d1dd-79453a74b382"
      },
      "outputs": [
        {
          "name": "stdout",
          "output_type": "stream",
          "text": [
            "Mounted at /content/drive\n"
          ]
        }
      ],
      "source": [
        "from google.colab import drive\n",
        "drive.mount('/content/drive')"
      ]
    },
    {
      "cell_type": "code",
      "execution_count": 3,
      "metadata": {
        "id": "0WM-S26_wrK7"
      },
      "outputs": [],
      "source": [
        "data = pd.read_csv('/content/drive/MyDrive/data_cleaned_1.csv')"
      ]
    },
    {
      "cell_type": "code",
      "execution_count": 4,
      "metadata": {
        "colab": {
          "base_uri": "https://localhost:8080/"
        },
        "id": "w53PcfM77WZg",
        "outputId": "66cc25c2-d47a-48d4-e9c1-7850441844d4"
      },
      "outputs": [
        {
          "data": {
            "text/plain": [
              "34"
            ]
          },
          "execution_count": 4,
          "metadata": {},
          "output_type": "execute_result"
        }
      ],
      "source": [
        "data.isnull().sum().max()"
      ]
    },
    {
      "cell_type": "code",
      "execution_count": 5,
      "metadata": {
        "id": "KXhpz8bI7Zlx"
      },
      "outputs": [],
      "source": [
        "data = data.dropna()"
      ]
    },
    {
      "cell_type": "code",
      "execution_count": 6,
      "metadata": {
        "colab": {
          "base_uri": "https://localhost:8080/"
        },
        "id": "OPK8RTI17fto",
        "outputId": "4eed4339-91bd-491c-afe7-e17a8073f231"
      },
      "outputs": [
        {
          "data": {
            "text/plain": [
              "0"
            ]
          },
          "execution_count": 6,
          "metadata": {},
          "output_type": "execute_result"
        }
      ],
      "source": [
        "data.isnull().sum().max()"
      ]
    },
    {
      "cell_type": "code",
      "execution_count": 7,
      "metadata": {
        "id": "C5lR5PZzf8UC"
      },
      "outputs": [],
      "source": [
        "data['text'] = data['text'].astype(str)"
      ]
    },
    {
      "cell_type": "code",
      "execution_count": 8,
      "metadata": {
        "id": "9-hHjUxbzv01"
      },
      "outputs": [],
      "source": [
        "data['dialect_cat'] = data['dialect'].factorize()[0]"
      ]
    },
    {
      "cell_type": "code",
      "execution_count": 9,
      "metadata": {
        "colab": {
          "base_uri": "https://localhost:8080/"
        },
        "id": "u4U6kBf5Y4r8",
        "outputId": "fc714437-ee48-44b7-a817-e3d8292a1600"
      },
      "outputs": [
        {
          "data": {
            "text/plain": [
              "{0: 'IQ',\n",
              " 1: 'LY',\n",
              " 2: 'QA',\n",
              " 3: 'PL',\n",
              " 4: 'SY',\n",
              " 5: 'TN',\n",
              " 6: 'JO',\n",
              " 7: 'MA',\n",
              " 8: 'SA',\n",
              " 9: 'YE',\n",
              " 10: 'DZ',\n",
              " 11: 'EG',\n",
              " 12: 'LB',\n",
              " 13: 'KW',\n",
              " 14: 'OM',\n",
              " 15: 'SD',\n",
              " 16: 'AE',\n",
              " 17: 'BH'}"
            ]
          },
          "execution_count": 9,
          "metadata": {},
          "output_type": "execute_result"
        }
      ],
      "source": [
        "category_id_df = data[['dialect', 'dialect_cat']].drop_duplicates()\n",
        "id_to_category = dict(category_id_df[['dialect_cat', 'dialect']].values)\n",
        "id_to_category"
      ]
    },
    {
      "cell_type": "code",
      "execution_count": 10,
      "metadata": {
        "colab": {
          "base_uri": "https://localhost:8080/",
          "height": 424
        },
        "id": "mJGTNoH_jedG",
        "outputId": "e5f8fb01-4729-411a-b4ab-a17110976a50"
      },
      "outputs": [
        {
          "data": {
            "text/html": [
              "\n",
              "  <div id=\"df-8643de8c-238c-4c62-a76e-59cc241b666f\">\n",
              "    <div class=\"colab-df-container\">\n",
              "      <div>\n",
              "<style scoped>\n",
              "    .dataframe tbody tr th:only-of-type {\n",
              "        vertical-align: middle;\n",
              "    }\n",
              "\n",
              "    .dataframe tbody tr th {\n",
              "        vertical-align: top;\n",
              "    }\n",
              "\n",
              "    .dataframe thead th {\n",
              "        text-align: right;\n",
              "    }\n",
              "</style>\n",
              "<table border=\"1\" class=\"dataframe\">\n",
              "  <thead>\n",
              "    <tr style=\"text-align: right;\">\n",
              "      <th></th>\n",
              "      <th>id</th>\n",
              "      <th>text</th>\n",
              "      <th>dialect</th>\n",
              "      <th>dialect_cat</th>\n",
              "    </tr>\n",
              "  </thead>\n",
              "  <tbody>\n",
              "    <tr>\n",
              "      <th>0</th>\n",
              "      <td>1175358310087892992</td>\n",
              "      <td>بالنهاية ينتفض يغير</td>\n",
              "      <td>IQ</td>\n",
              "      <td>0</td>\n",
              "    </tr>\n",
              "    <tr>\n",
              "      <th>1</th>\n",
              "      <td>1175416117793349632</td>\n",
              "      <td>يعني محسوب البشر حيونه ووحشيه وتطلبون الغرب يح...</td>\n",
              "      <td>IQ</td>\n",
              "      <td>0</td>\n",
              "    </tr>\n",
              "    <tr>\n",
              "      <th>2</th>\n",
              "      <td>1175450108898565888</td>\n",
              "      <td>مبين كلامه خليجي</td>\n",
              "      <td>IQ</td>\n",
              "      <td>0</td>\n",
              "    </tr>\n",
              "    <tr>\n",
              "      <th>3</th>\n",
              "      <td>1175471073770573824</td>\n",
              "      <td>يسلملي مرورك وروحك الحلوه</td>\n",
              "      <td>IQ</td>\n",
              "      <td>0</td>\n",
              "    </tr>\n",
              "    <tr>\n",
              "      <th>4</th>\n",
              "      <td>1175496913145217024</td>\n",
              "      <td>وين الغيبه اخ محمد</td>\n",
              "      <td>IQ</td>\n",
              "      <td>0</td>\n",
              "    </tr>\n",
              "    <tr>\n",
              "      <th>...</th>\n",
              "      <td>...</td>\n",
              "      <td>...</td>\n",
              "      <td>...</td>\n",
              "      <td>...</td>\n",
              "    </tr>\n",
              "    <tr>\n",
              "      <th>457996</th>\n",
              "      <td>1088437262499659776</td>\n",
              "      <td>بالعافيه فقلي الاكل</td>\n",
              "      <td>BH</td>\n",
              "      <td>17</td>\n",
              "    </tr>\n",
              "    <tr>\n",
              "      <th>457997</th>\n",
              "      <td>1088665169616687232</td>\n",
              "      <td>مدح يبي</td>\n",
              "      <td>BH</td>\n",
              "      <td>17</td>\n",
              "    </tr>\n",
              "    <tr>\n",
              "      <th>457998</th>\n",
              "      <td>1090527423844806784</td>\n",
              "      <td>ايييي احبها واحب طاوله للكرك ويفضل ان تكون بلك...</td>\n",
              "      <td>BH</td>\n",
              "      <td>17</td>\n",
              "    </tr>\n",
              "    <tr>\n",
              "      <th>457999</th>\n",
              "      <td>1090947679977439232</td>\n",
              "      <td>جيبي مطرقه شوفي اهدم واهدم ابوه</td>\n",
              "      <td>BH</td>\n",
              "      <td>17</td>\n",
              "    </tr>\n",
              "    <tr>\n",
              "      <th>458000</th>\n",
              "      <td>1092100350440599552</td>\n",
              "      <td>شنو ميزان وشنو شنووو المهم ماعلينا خلينا بالمي...</td>\n",
              "      <td>BH</td>\n",
              "      <td>17</td>\n",
              "    </tr>\n",
              "  </tbody>\n",
              "</table>\n",
              "<p>457967 rows × 4 columns</p>\n",
              "</div>\n",
              "      <button class=\"colab-df-convert\" onclick=\"convertToInteractive('df-8643de8c-238c-4c62-a76e-59cc241b666f')\"\n",
              "              title=\"Convert this dataframe to an interactive table.\"\n",
              "              style=\"display:none;\">\n",
              "        \n",
              "  <svg xmlns=\"http://www.w3.org/2000/svg\" height=\"24px\"viewBox=\"0 0 24 24\"\n",
              "       width=\"24px\">\n",
              "    <path d=\"M0 0h24v24H0V0z\" fill=\"none\"/>\n",
              "    <path d=\"M18.56 5.44l.94 2.06.94-2.06 2.06-.94-2.06-.94-.94-2.06-.94 2.06-2.06.94zm-11 1L8.5 8.5l.94-2.06 2.06-.94-2.06-.94L8.5 2.5l-.94 2.06-2.06.94zm10 10l.94 2.06.94-2.06 2.06-.94-2.06-.94-.94-2.06-.94 2.06-2.06.94z\"/><path d=\"M17.41 7.96l-1.37-1.37c-.4-.4-.92-.59-1.43-.59-.52 0-1.04.2-1.43.59L10.3 9.45l-7.72 7.72c-.78.78-.78 2.05 0 2.83L4 21.41c.39.39.9.59 1.41.59.51 0 1.02-.2 1.41-.59l7.78-7.78 2.81-2.81c.8-.78.8-2.07 0-2.86zM5.41 20L4 18.59l7.72-7.72 1.47 1.35L5.41 20z\"/>\n",
              "  </svg>\n",
              "      </button>\n",
              "      \n",
              "  <style>\n",
              "    .colab-df-container {\n",
              "      display:flex;\n",
              "      flex-wrap:wrap;\n",
              "      gap: 12px;\n",
              "    }\n",
              "\n",
              "    .colab-df-convert {\n",
              "      background-color: #E8F0FE;\n",
              "      border: none;\n",
              "      border-radius: 50%;\n",
              "      cursor: pointer;\n",
              "      display: none;\n",
              "      fill: #1967D2;\n",
              "      height: 32px;\n",
              "      padding: 0 0 0 0;\n",
              "      width: 32px;\n",
              "    }\n",
              "\n",
              "    .colab-df-convert:hover {\n",
              "      background-color: #E2EBFA;\n",
              "      box-shadow: 0px 1px 2px rgba(60, 64, 67, 0.3), 0px 1px 3px 1px rgba(60, 64, 67, 0.15);\n",
              "      fill: #174EA6;\n",
              "    }\n",
              "\n",
              "    [theme=dark] .colab-df-convert {\n",
              "      background-color: #3B4455;\n",
              "      fill: #D2E3FC;\n",
              "    }\n",
              "\n",
              "    [theme=dark] .colab-df-convert:hover {\n",
              "      background-color: #434B5C;\n",
              "      box-shadow: 0px 1px 3px 1px rgba(0, 0, 0, 0.15);\n",
              "      filter: drop-shadow(0px 1px 2px rgba(0, 0, 0, 0.3));\n",
              "      fill: #FFFFFF;\n",
              "    }\n",
              "  </style>\n",
              "\n",
              "      <script>\n",
              "        const buttonEl =\n",
              "          document.querySelector('#df-8643de8c-238c-4c62-a76e-59cc241b666f button.colab-df-convert');\n",
              "        buttonEl.style.display =\n",
              "          google.colab.kernel.accessAllowed ? 'block' : 'none';\n",
              "\n",
              "        async function convertToInteractive(key) {\n",
              "          const element = document.querySelector('#df-8643de8c-238c-4c62-a76e-59cc241b666f');\n",
              "          const dataTable =\n",
              "            await google.colab.kernel.invokeFunction('convertToInteractive',\n",
              "                                                     [key], {});\n",
              "          if (!dataTable) return;\n",
              "\n",
              "          const docLinkHtml = 'Like what you see? Visit the ' +\n",
              "            '<a target=\"_blank\" href=https://colab.research.google.com/notebooks/data_table.ipynb>data table notebook</a>'\n",
              "            + ' to learn more about interactive tables.';\n",
              "          element.innerHTML = '';\n",
              "          dataTable['output_type'] = 'display_data';\n",
              "          await google.colab.output.renderOutput(dataTable, element);\n",
              "          const docLink = document.createElement('div');\n",
              "          docLink.innerHTML = docLinkHtml;\n",
              "          element.appendChild(docLink);\n",
              "        }\n",
              "      </script>\n",
              "    </div>\n",
              "  </div>\n",
              "  "
            ],
            "text/plain": [
              "                         id  \\\n",
              "0       1175358310087892992   \n",
              "1       1175416117793349632   \n",
              "2       1175450108898565888   \n",
              "3       1175471073770573824   \n",
              "4       1175496913145217024   \n",
              "...                     ...   \n",
              "457996  1088437262499659776   \n",
              "457997  1088665169616687232   \n",
              "457998  1090527423844806784   \n",
              "457999  1090947679977439232   \n",
              "458000  1092100350440599552   \n",
              "\n",
              "                                                     text dialect  dialect_cat  \n",
              "0                                     بالنهاية ينتفض يغير      IQ            0  \n",
              "1       يعني محسوب البشر حيونه ووحشيه وتطلبون الغرب يح...      IQ            0  \n",
              "2                                        مبين كلامه خليجي      IQ            0  \n",
              "3                               يسلملي مرورك وروحك الحلوه      IQ            0  \n",
              "4                                      وين الغيبه اخ محمد      IQ            0  \n",
              "...                                                   ...     ...          ...  \n",
              "457996                                بالعافيه فقلي الاكل      BH           17  \n",
              "457997                                            مدح يبي      BH           17  \n",
              "457998  ايييي احبها واحب طاوله للكرك ويفضل ان تكون بلك...      BH           17  \n",
              "457999                    جيبي مطرقه شوفي اهدم واهدم ابوه      BH           17  \n",
              "458000  شنو ميزان وشنو شنووو المهم ماعلينا خلينا بالمي...      BH           17  \n",
              "\n",
              "[457967 rows x 4 columns]"
            ]
          },
          "execution_count": 10,
          "metadata": {},
          "output_type": "execute_result"
        }
      ],
      "source": [
        "data"
      ]
    },
    {
      "cell_type": "markdown",
      "metadata": {},
      "source": [
        "# Data Visualization"
      ]
    },
    {
      "cell_type": "code",
      "execution_count": 11,
      "metadata": {
        "colab": {
          "base_uri": "https://localhost:8080/",
          "height": 299
        },
        "id": "4UklZaCxY8R0",
        "outputId": "1e40a080-9875-4f62-ce48-36e23cb2c755"
      },
      "outputs": [
        {
          "data": {
            "text/plain": [
              "<matplotlib.axes._subplots.AxesSubplot at 0x7f236e20be50>"
            ]
          },
          "execution_count": 11,
          "metadata": {},
          "output_type": "execute_result"
        },
        {
          "data": {
            "image/png": "[encoded data removed]",
            "text/plain": [
              "<Figure size 432x288 with 1 Axes>"
            ]
          },
          "metadata": {
            "needs_background": "light"
          },
          "output_type": "display_data"
        }
      ],
      "source": [
        "sns.countplot(x = 'dialect',\n",
        "              data = data,\n",
        "              order = data['dialect'].value_counts().index)"
      ]
    },
    {
      "cell_type": "code",
      "execution_count": 12,
      "metadata": {
        "colab": {
          "base_uri": "https://localhost:8080/",
          "height": 295
        },
        "id": "7FJFErzaahLc",
        "outputId": "7ea41558-0294-4cdc-c2b7-dab7be2c20f6"
      },
      "outputs": [
        {
          "data": {
            "image/png": "[encoded data removed]",
            "text/plain": [
              "<Figure size 432x288 with 1 Axes>"
            ]
          },
          "metadata": {
            "needs_background": "light"
          },
          "output_type": "display_data"
        }
      ],
      "source": [
        "def plot_sample_length_distribution(sample_texts):\n",
        "    plt.hist([len(s) for s in sample_texts])\n",
        "    plt.xlabel('Length of a sample')\n",
        "    plt.ylabel('Number of samples')\n",
        "    plt.title('Sample length distribution')\n",
        "    plt.show()\n",
        "\n",
        "\n",
        "plot_sample_length_distribution(data['text'].values.astype('U'))"
      ]
    },
    {
      "cell_type": "markdown",
      "metadata": {},
      "source": [
        "## Sampling the data to try on multiple models"
      ]
    },
    {
      "cell_type": "code",
      "execution_count": 13,
      "metadata": {
        "id": "rO7-Tlxs9yas"
      },
      "outputs": [],
      "source": [
        "sample = data.sample(frac=0.1)"
      ]
    },
    {
      "cell_type": "code",
      "execution_count": 14,
      "metadata": {
        "colab": {
          "base_uri": "https://localhost:8080/",
          "height": 424
        },
        "id": "MdK2AFKg9yTD",
        "outputId": "f771feed-9cf8-466c-d7a7-72c2053b76c0"
      },
      "outputs": [
        {
          "data": {
            "text/html": [
              "\n",
              "  <div id=\"df-27d381c4-9774-444e-9e4b-94729aa49ba7\">\n",
              "    <div class=\"colab-df-container\">\n",
              "      <div>\n",
              "<style scoped>\n",
              "    .dataframe tbody tr th:only-of-type {\n",
              "        vertical-align: middle;\n",
              "    }\n",
              "\n",
              "    .dataframe tbody tr th {\n",
              "        vertical-align: top;\n",
              "    }\n",
              "\n",
              "    .dataframe thead th {\n",
              "        text-align: right;\n",
              "    }\n",
              "</style>\n",
              "<table border=\"1\" class=\"dataframe\">\n",
              "  <thead>\n",
              "    <tr style=\"text-align: right;\">\n",
              "      <th></th>\n",
              "      <th>id</th>\n",
              "      <th>text</th>\n",
              "      <th>dialect</th>\n",
              "      <th>dialect_cat</th>\n",
              "    </tr>\n",
              "  </thead>\n",
              "  <tbody>\n",
              "    <tr>\n",
              "      <th>122558</th>\n",
              "      <td>1155530389160640512</td>\n",
              "      <td>الله الله روعه فخامه وصح لسانك فعلا ماكل ركب ا...</td>\n",
              "      <td>PL</td>\n",
              "      <td>3</td>\n",
              "    </tr>\n",
              "    <tr>\n",
              "      <th>123545</th>\n",
              "      <td>494423088613040128</td>\n",
              "      <td>احنا يومين صارلها وﻻ دقيقة اجت ربنا يفرجها ان ...</td>\n",
              "      <td>PL</td>\n",
              "      <td>3</td>\n",
              "    </tr>\n",
              "    <tr>\n",
              "      <th>40944</th>\n",
              "      <td>866443394163322880</td>\n",
              "      <td>قالو اليهود يقولو كنك ليبي ياراجل</td>\n",
              "      <td>LY</td>\n",
              "      <td>1</td>\n",
              "    </tr>\n",
              "    <tr>\n",
              "      <th>64391</th>\n",
              "      <td>455314803901210624</td>\n",
              "      <td>ماني فاتح باب قلبي للاحرآج ماحب آكون انسان ماه...</td>\n",
              "      <td>QA</td>\n",
              "      <td>2</td>\n",
              "    </tr>\n",
              "    <tr>\n",
              "      <th>311949</th>\n",
              "      <td>1159464756345999360</td>\n",
              "      <td>انسى عالحكي كنا اشترينا نحنا نجوم العالم</td>\n",
              "      <td>LB</td>\n",
              "      <td>12</td>\n",
              "    </tr>\n",
              "    <tr>\n",
              "      <th>...</th>\n",
              "      <td>...</td>\n",
              "      <td>...</td>\n",
              "      <td>...</td>\n",
              "      <td>...</td>\n",
              "    </tr>\n",
              "    <tr>\n",
              "      <th>262300</th>\n",
              "      <td>789337465828024320</td>\n",
              "      <td>بيتخزن التجار الجاشعين روح وشوف</td>\n",
              "      <td>EG</td>\n",
              "      <td>11</td>\n",
              "    </tr>\n",
              "    <tr>\n",
              "      <th>293991</th>\n",
              "      <td>825438708006531072</td>\n",
              "      <td>مؤتمر الشباب دا كمية تعريص انما ايه عنب</td>\n",
              "      <td>EG</td>\n",
              "      <td>11</td>\n",
              "    </tr>\n",
              "    <tr>\n",
              "      <th>237021</th>\n",
              "      <td>655088033771950080</td>\n",
              "      <td>ههههههه يا اختي سمعتها مت بالضحك</td>\n",
              "      <td>DZ</td>\n",
              "      <td>10</td>\n",
              "    </tr>\n",
              "    <tr>\n",
              "      <th>4031</th>\n",
              "      <td>966790653526073216</td>\n",
              "      <td>ادري هاي وين لكيتوها يمكن جيل 2000 جاي ايدور ب...</td>\n",
              "      <td>IQ</td>\n",
              "      <td>0</td>\n",
              "    </tr>\n",
              "    <tr>\n",
              "      <th>166937</th>\n",
              "      <td>1034886350464577536</td>\n",
              "      <td>صرت أشتغل بالدهان</td>\n",
              "      <td>JO</td>\n",
              "      <td>6</td>\n",
              "    </tr>\n",
              "  </tbody>\n",
              "</table>\n",
              "<p>45797 rows × 4 columns</p>\n",
              "</div>\n",
              "      <button class=\"colab-df-convert\" onclick=\"convertToInteractive('df-27d381c4-9774-444e-9e4b-94729aa49ba7')\"\n",
              "              title=\"Convert this dataframe to an interactive table.\"\n",
              "              style=\"display:none;\">\n",
              "        \n",
              "  <svg xmlns=\"http://www.w3.org/2000/svg\" height=\"24px\"viewBox=\"0 0 24 24\"\n",
              "       width=\"24px\">\n",
              "    <path d=\"M0 0h24v24H0V0z\" fill=\"none\"/>\n",
              "    <path d=\"M18.56 5.44l.94 2.06.94-2.06 2.06-.94-2.06-.94-.94-2.06-.94 2.06-2.06.94zm-11 1L8.5 8.5l.94-2.06 2.06-.94-2.06-.94L8.5 2.5l-.94 2.06-2.06.94zm10 10l.94 2.06.94-2.06 2.06-.94-2.06-.94-.94-2.06-.94 2.06-2.06.94z\"/><path d=\"M17.41 7.96l-1.37-1.37c-.4-.4-.92-.59-1.43-.59-.52 0-1.04.2-1.43.59L10.3 9.45l-7.72 7.72c-.78.78-.78 2.05 0 2.83L4 21.41c.39.39.9.59 1.41.59.51 0 1.02-.2 1.41-.59l7.78-7.78 2.81-2.81c.8-.78.8-2.07 0-2.86zM5.41 20L4 18.59l7.72-7.72 1.47 1.35L5.41 20z\"/>\n",
              "  </svg>\n",
              "      </button>\n",
              "      \n",
              "  <style>\n",
              "    .colab-df-container {\n",
              "      display:flex;\n",
              "      flex-wrap:wrap;\n",
              "      gap: 12px;\n",
              "    }\n",
              "\n",
              "    .colab-df-convert {\n",
              "      background-color: #E8F0FE;\n",
              "      border: none;\n",
              "      border-radius: 50%;\n",
              "      cursor: pointer;\n",
              "      display: none;\n",
              "      fill: #1967D2;\n",
              "      height: 32px;\n",
              "      padding: 0 0 0 0;\n",
              "      width: 32px;\n",
              "    }\n",
              "\n",
              "    .colab-df-convert:hover {\n",
              "      background-color: #E2EBFA;\n",
              "      box-shadow: 0px 1px 2px rgba(60, 64, 67, 0.3), 0px 1px 3px 1px rgba(60, 64, 67, 0.15);\n",
              "      fill: #174EA6;\n",
              "    }\n",
              "\n",
              "    [theme=dark] .colab-df-convert {\n",
              "      background-color: #3B4455;\n",
              "      fill: #D2E3FC;\n",
              "    }\n",
              "\n",
              "    [theme=dark] .colab-df-convert:hover {\n",
              "      background-color: #434B5C;\n",
              "      box-shadow: 0px 1px 3px 1px rgba(0, 0, 0, 0.15);\n",
              "      filter: drop-shadow(0px 1px 2px rgba(0, 0, 0, 0.3));\n",
              "      fill: #FFFFFF;\n",
              "    }\n",
              "  </style>\n",
              "\n",
              "      <script>\n",
              "        const buttonEl =\n",
              "          document.querySelector('#df-27d381c4-9774-444e-9e4b-94729aa49ba7 button.colab-df-convert');\n",
              "        buttonEl.style.display =\n",
              "          google.colab.kernel.accessAllowed ? 'block' : 'none';\n",
              "\n",
              "        async function convertToInteractive(key) {\n",
              "          const element = document.querySelector('#df-27d381c4-9774-444e-9e4b-94729aa49ba7');\n",
              "          const dataTable =\n",
              "            await google.colab.kernel.invokeFunction('convertToInteractive',\n",
              "                                                     [key], {});\n",
              "          if (!dataTable) return;\n",
              "\n",
              "          const docLinkHtml = 'Like what you see? Visit the ' +\n",
              "            '<a target=\"_blank\" href=https://colab.research.google.com/notebooks/data_table.ipynb>data table notebook</a>'\n",
              "            + ' to learn more about interactive tables.';\n",
              "          element.innerHTML = '';\n",
              "          dataTable['output_type'] = 'display_data';\n",
              "          await google.colab.output.renderOutput(dataTable, element);\n",
              "          const docLink = document.createElement('div');\n",
              "          docLink.innerHTML = docLinkHtml;\n",
              "          element.appendChild(docLink);\n",
              "        }\n",
              "      </script>\n",
              "    </div>\n",
              "  </div>\n",
              "  "
            ],
            "text/plain": [
              "                         id  \\\n",
              "122558  1155530389160640512   \n",
              "123545   494423088613040128   \n",
              "40944    866443394163322880   \n",
              "64391    455314803901210624   \n",
              "311949  1159464756345999360   \n",
              "...                     ...   \n",
              "262300   789337465828024320   \n",
              "293991   825438708006531072   \n",
              "237021   655088033771950080   \n",
              "4031     966790653526073216   \n",
              "166937  1034886350464577536   \n",
              "\n",
              "                                                     text dialect  dialect_cat  \n",
              "122558  الله الله روعه فخامه وصح لسانك فعلا ماكل ركب ا...      PL            3  \n",
              "123545  احنا يومين صارلها وﻻ دقيقة اجت ربنا يفرجها ان ...      PL            3  \n",
              "40944                   قالو اليهود يقولو كنك ليبي ياراجل      LY            1  \n",
              "64391   ماني فاتح باب قلبي للاحرآج ماحب آكون انسان ماه...      QA            2  \n",
              "311949           انسى عالحكي كنا اشترينا نحنا نجوم العالم      LB           12  \n",
              "...                                                   ...     ...          ...  \n",
              "262300                    بيتخزن التجار الجاشعين روح وشوف      EG           11  \n",
              "293991            مؤتمر الشباب دا كمية تعريص انما ايه عنب      EG           11  \n",
              "237021                   ههههههه يا اختي سمعتها مت بالضحك      DZ           10  \n",
              "4031    ادري هاي وين لكيتوها يمكن جيل 2000 جاي ايدور ب...      IQ            0  \n",
              "166937                                  صرت أشتغل بالدهان      JO            6  \n",
              "\n",
              "[45797 rows x 4 columns]"
            ]
          },
          "execution_count": 14,
          "metadata": {},
          "output_type": "execute_result"
        }
      ],
      "source": [
        "sample"
      ]
    },
    {
      "cell_type": "code",
      "execution_count": 15,
      "metadata": {
        "colab": {
          "base_uri": "https://localhost:8080/",
          "height": 295
        },
        "id": "HJGJU9XP9yQS",
        "outputId": "b605b906-3b8b-4c38-f2c0-ca306e47d4d6"
      },
      "outputs": [
        {
          "data": {
            "image/png": "[encoded data removed]",
            "text/plain": [
              "<Figure size 432x288 with 1 Axes>"
            ]
          },
          "metadata": {
            "needs_background": "light"
          },
          "output_type": "display_data"
        }
      ],
      "source": [
        "plot_sample_length_distribution(sample['text'].values.astype('U'))"
      ]
    },
    {
      "cell_type": "code",
      "execution_count": 16,
      "metadata": {
        "colab": {
          "base_uri": "https://localhost:8080/",
          "height": 297
        },
        "id": "DtNxZMTz9yNn",
        "outputId": "b62b7e21-5b67-4bf3-bbe5-f172dd00267a"
      },
      "outputs": [
        {
          "data": {
            "text/plain": [
              "<matplotlib.axes._subplots.AxesSubplot at 0x7f236dc684d0>"
            ]
          },
          "execution_count": 16,
          "metadata": {},
          "output_type": "execute_result"
        },
        {
          "data": {
            "image/png": "[encoded data removed]",
            "text/plain": [
              "<Figure size 432x288 with 1 Axes>"
            ]
          },
          "metadata": {
            "needs_background": "light"
          },
          "output_type": "display_data"
        }
      ],
      "source": [
        "sns.countplot(x = 'dialect',\n",
        "              data = sample,\n",
        "              order = sample['dialect'].value_counts().index)"
      ]
    },
    {
      "cell_type": "markdown",
      "metadata": {},
      "source": [
        "### Using TFIDF vectorizer to transform the data"
      ]
    },
    {
      "cell_type": "code",
      "execution_count": 19,
      "metadata": {
        "id": "Q4dpNXlC9yLH"
      },
      "outputs": [],
      "source": [
        "#Using TFidf vectorizer on a sample data so we can choose whcih model to deploy with the whole data.\n",
        "tf_1=TfidfVectorizer()\n",
        "text_tf1= tf_1.fit_transform(sample['text'])\n",
        "y_sample = sample['dialect_cat'] "
      ]
    },
    {
      "cell_type": "markdown",
      "metadata": {},
      "source": [
        "### Models Training on the sample dataset"
      ]
    },
    {
      "cell_type": "code",
      "execution_count": 23,
      "metadata": {
        "colab": {
          "base_uri": "https://localhost:8080/"
        },
        "id": "LhOcny5r9yGW",
        "outputId": "e3d42c2e-615e-423e-e932-705fc8a75538"
      },
      "outputs": [
        {
          "name": "stderr",
          "output_type": "stream",
          "text": [
            "/usr/local/lib/python3.7/dist-packages/sklearn/linear_model/_logistic.py:818: ConvergenceWarning: lbfgs failed to converge (status=1):\n",
            "STOP: TOTAL NO. of ITERATIONS REACHED LIMIT.\n",
            "\n",
            "Increase the number of iterations (max_iter) or scale the data as shown in:\n",
            "    https://scikit-learn.org/stable/modules/preprocessing.html\n",
            "Please also refer to the documentation for alternative solver options:\n",
            "    https://scikit-learn.org/stable/modules/linear_model.html#logistic-regression\n",
            "  extra_warning_msg=_LOGISTIC_SOLVER_CONVERGENCE_MSG,\n",
            "/usr/local/lib/python3.7/dist-packages/sklearn/linear_model/_logistic.py:818: ConvergenceWarning: lbfgs failed to converge (status=1):\n",
            "STOP: TOTAL NO. of ITERATIONS REACHED LIMIT.\n",
            "\n",
            "Increase the number of iterations (max_iter) or scale the data as shown in:\n",
            "    https://scikit-learn.org/stable/modules/preprocessing.html\n",
            "Please also refer to the documentation for alternative solver options:\n",
            "    https://scikit-learn.org/stable/modules/linear_model.html#logistic-regression\n",
            "  extra_warning_msg=_LOGISTIC_SOLVER_CONVERGENCE_MSG,\n",
            "/usr/local/lib/python3.7/dist-packages/sklearn/linear_model/_logistic.py:818: ConvergenceWarning: lbfgs failed to converge (status=1):\n",
            "STOP: TOTAL NO. of ITERATIONS REACHED LIMIT.\n",
            "\n",
            "Increase the number of iterations (max_iter) or scale the data as shown in:\n",
            "    https://scikit-learn.org/stable/modules/preprocessing.html\n",
            "Please also refer to the documentation for alternative solver options:\n",
            "    https://scikit-learn.org/stable/modules/linear_model.html#logistic-regression\n",
            "  extra_warning_msg=_LOGISTIC_SOLVER_CONVERGENCE_MSG,\n",
            "/usr/local/lib/python3.7/dist-packages/sklearn/linear_model/_logistic.py:818: ConvergenceWarning: lbfgs failed to converge (status=1):\n",
            "STOP: TOTAL NO. of ITERATIONS REACHED LIMIT.\n",
            "\n",
            "Increase the number of iterations (max_iter) or scale the data as shown in:\n",
            "    https://scikit-learn.org/stable/modules/preprocessing.html\n",
            "Please also refer to the documentation for alternative solver options:\n",
            "    https://scikit-learn.org/stable/modules/linear_model.html#logistic-regression\n",
            "  extra_warning_msg=_LOGISTIC_SOLVER_CONVERGENCE_MSG,\n",
            "/usr/local/lib/python3.7/dist-packages/sklearn/linear_model/_logistic.py:818: ConvergenceWarning: lbfgs failed to converge (status=1):\n",
            "STOP: TOTAL NO. of ITERATIONS REACHED LIMIT.\n",
            "\n",
            "Increase the number of iterations (max_iter) or scale the data as shown in:\n",
            "    https://scikit-learn.org/stable/modules/preprocessing.html\n",
            "Please also refer to the documentation for alternative solver options:\n",
            "    https://scikit-learn.org/stable/modules/linear_model.html#logistic-regression\n",
            "  extra_warning_msg=_LOGISTIC_SOLVER_CONVERGENCE_MSG,\n"
          ]
        }
      ],
      "source": [
        "#Creating a list of models to compare the cross-validation mean accuracy at the end of the training.\n",
        "models = [\n",
        "    RandomForestClassifier(n_estimators=100, max_depth=5, random_state=0),\n",
        "    LinearSVC(),\n",
        "    MultinomialNB(),\n",
        "    LogisticRegression(random_state=0),\n",
        "]\n",
        "\n",
        "CV = 5\n",
        "cv_df = pd.DataFrame(index=range(CV * len(models)))\n",
        "\n",
        "entries = []\n",
        "for model in models:\n",
        "  model_name = model.__class__.__name__\n",
        "  accuracies = cross_val_score(model, text_tf1, y_sample, scoring='accuracy', cv=CV)\n",
        "  for fold_idx, accuracy in enumerate(accuracies):\n",
        "    entries.append((model_name, fold_idx, accuracy))\n",
        "    \n",
        "cv_df = pd.DataFrame(entries, columns=['model_name', 'fold_idx', 'accuracy'])"
      ]
    },
    {
      "cell_type": "code",
      "execution_count": 28,
      "metadata": {
        "colab": {
          "base_uri": "https://localhost:8080/",
          "height": 677
        },
        "id": "ns_Ym9kyBux4",
        "outputId": "48819040-e8fd-4418-b40f-88524d0e9f2f"
      },
      "outputs": [
        {
          "data": {
            "text/html": [
              "\n",
              "  <div id=\"df-1537bcd8-1d35-414e-8bf9-40bf95b99ec3\">\n",
              "    <div class=\"colab-df-container\">\n",
              "      <div>\n",
              "<style scoped>\n",
              "    .dataframe tbody tr th:only-of-type {\n",
              "        vertical-align: middle;\n",
              "    }\n",
              "\n",
              "    .dataframe tbody tr th {\n",
              "        vertical-align: top;\n",
              "    }\n",
              "\n",
              "    .dataframe thead th {\n",
              "        text-align: right;\n",
              "    }\n",
              "</style>\n",
              "<table border=\"1\" class=\"dataframe\">\n",
              "  <thead>\n",
              "    <tr style=\"text-align: right;\">\n",
              "      <th></th>\n",
              "      <th>model_name</th>\n",
              "      <th>fold_idx</th>\n",
              "      <th>accuracy</th>\n",
              "    </tr>\n",
              "  </thead>\n",
              "  <tbody>\n",
              "    <tr>\n",
              "      <th>0</th>\n",
              "      <td>RandomForestClassifier</td>\n",
              "      <td>0</td>\n",
              "      <td>0.123144</td>\n",
              "    </tr>\n",
              "    <tr>\n",
              "      <th>1</th>\n",
              "      <td>RandomForestClassifier</td>\n",
              "      <td>1</td>\n",
              "      <td>0.123362</td>\n",
              "    </tr>\n",
              "    <tr>\n",
              "      <th>2</th>\n",
              "      <td>RandomForestClassifier</td>\n",
              "      <td>2</td>\n",
              "      <td>0.122830</td>\n",
              "    </tr>\n",
              "    <tr>\n",
              "      <th>3</th>\n",
              "      <td>RandomForestClassifier</td>\n",
              "      <td>3</td>\n",
              "      <td>0.122939</td>\n",
              "    </tr>\n",
              "    <tr>\n",
              "      <th>4</th>\n",
              "      <td>RandomForestClassifier</td>\n",
              "      <td>4</td>\n",
              "      <td>0.124904</td>\n",
              "    </tr>\n",
              "    <tr>\n",
              "      <th>5</th>\n",
              "      <td>LinearSVC</td>\n",
              "      <td>0</td>\n",
              "      <td>0.415939</td>\n",
              "    </tr>\n",
              "    <tr>\n",
              "      <th>6</th>\n",
              "      <td>LinearSVC</td>\n",
              "      <td>1</td>\n",
              "      <td>0.406004</td>\n",
              "    </tr>\n",
              "    <tr>\n",
              "      <th>7</th>\n",
              "      <td>LinearSVC</td>\n",
              "      <td>2</td>\n",
              "      <td>0.417622</td>\n",
              "    </tr>\n",
              "    <tr>\n",
              "      <th>8</th>\n",
              "      <td>LinearSVC</td>\n",
              "      <td>3</td>\n",
              "      <td>0.413910</td>\n",
              "    </tr>\n",
              "    <tr>\n",
              "      <th>9</th>\n",
              "      <td>LinearSVC</td>\n",
              "      <td>4</td>\n",
              "      <td>0.417294</td>\n",
              "    </tr>\n",
              "    <tr>\n",
              "      <th>10</th>\n",
              "      <td>MultinomialNB</td>\n",
              "      <td>0</td>\n",
              "      <td>0.292031</td>\n",
              "    </tr>\n",
              "    <tr>\n",
              "      <th>11</th>\n",
              "      <td>MultinomialNB</td>\n",
              "      <td>1</td>\n",
              "      <td>0.285808</td>\n",
              "    </tr>\n",
              "    <tr>\n",
              "      <th>12</th>\n",
              "      <td>MultinomialNB</td>\n",
              "      <td>2</td>\n",
              "      <td>0.288350</td>\n",
              "    </tr>\n",
              "    <tr>\n",
              "      <th>13</th>\n",
              "      <td>MultinomialNB</td>\n",
              "      <td>3</td>\n",
              "      <td>0.293700</td>\n",
              "    </tr>\n",
              "    <tr>\n",
              "      <th>14</th>\n",
              "      <td>MultinomialNB</td>\n",
              "      <td>4</td>\n",
              "      <td>0.287586</td>\n",
              "    </tr>\n",
              "    <tr>\n",
              "      <th>15</th>\n",
              "      <td>LogisticRegression</td>\n",
              "      <td>0</td>\n",
              "      <td>0.392249</td>\n",
              "    </tr>\n",
              "    <tr>\n",
              "      <th>16</th>\n",
              "      <td>LogisticRegression</td>\n",
              "      <td>1</td>\n",
              "      <td>0.386681</td>\n",
              "    </tr>\n",
              "    <tr>\n",
              "      <th>17</th>\n",
              "      <td>LogisticRegression</td>\n",
              "      <td>2</td>\n",
              "      <td>0.388034</td>\n",
              "    </tr>\n",
              "    <tr>\n",
              "      <th>18</th>\n",
              "      <td>LogisticRegression</td>\n",
              "      <td>3</td>\n",
              "      <td>0.393493</td>\n",
              "    </tr>\n",
              "    <tr>\n",
              "      <th>19</th>\n",
              "      <td>LogisticRegression</td>\n",
              "      <td>4</td>\n",
              "      <td>0.388252</td>\n",
              "    </tr>\n",
              "  </tbody>\n",
              "</table>\n",
              "</div>\n",
              "      <button class=\"colab-df-convert\" onclick=\"convertToInteractive('df-1537bcd8-1d35-414e-8bf9-40bf95b99ec3')\"\n",
              "              title=\"Convert this dataframe to an interactive table.\"\n",
              "              style=\"display:none;\">\n",
              "        \n",
              "  <svg xmlns=\"http://www.w3.org/2000/svg\" height=\"24px\"viewBox=\"0 0 24 24\"\n",
              "       width=\"24px\">\n",
              "    <path d=\"M0 0h24v24H0V0z\" fill=\"none\"/>\n",
              "    <path d=\"M18.56 5.44l.94 2.06.94-2.06 2.06-.94-2.06-.94-.94-2.06-.94 2.06-2.06.94zm-11 1L8.5 8.5l.94-2.06 2.06-.94-2.06-.94L8.5 2.5l-.94 2.06-2.06.94zm10 10l.94 2.06.94-2.06 2.06-.94-2.06-.94-.94-2.06-.94 2.06-2.06.94z\"/><path d=\"M17.41 7.96l-1.37-1.37c-.4-.4-.92-.59-1.43-.59-.52 0-1.04.2-1.43.59L10.3 9.45l-7.72 7.72c-.78.78-.78 2.05 0 2.83L4 21.41c.39.39.9.59 1.41.59.51 0 1.02-.2 1.41-.59l7.78-7.78 2.81-2.81c.8-.78.8-2.07 0-2.86zM5.41 20L4 18.59l7.72-7.72 1.47 1.35L5.41 20z\"/>\n",
              "  </svg>\n",
              "      </button>\n",
              "      \n",
              "  <style>\n",
              "    .colab-df-container {\n",
              "      display:flex;\n",
              "      flex-wrap:wrap;\n",
              "      gap: 12px;\n",
              "    }\n",
              "\n",
              "    .colab-df-convert {\n",
              "      background-color: #E8F0FE;\n",
              "      border: none;\n",
              "      border-radius: 50%;\n",
              "      cursor: pointer;\n",
              "      display: none;\n",
              "      fill: #1967D2;\n",
              "      height: 32px;\n",
              "      padding: 0 0 0 0;\n",
              "      width: 32px;\n",
              "    }\n",
              "\n",
              "    .colab-df-convert:hover {\n",
              "      background-color: #E2EBFA;\n",
              "      box-shadow: 0px 1px 2px rgba(60, 64, 67, 0.3), 0px 1px 3px 1px rgba(60, 64, 67, 0.15);\n",
              "      fill: #174EA6;\n",
              "    }\n",
              "\n",
              "    [theme=dark] .colab-df-convert {\n",
              "      background-color: #3B4455;\n",
              "      fill: #D2E3FC;\n",
              "    }\n",
              "\n",
              "    [theme=dark] .colab-df-convert:hover {\n",
              "      background-color: #434B5C;\n",
              "      box-shadow: 0px 1px 3px 1px rgba(0, 0, 0, 0.15);\n",
              "      filter: drop-shadow(0px 1px 2px rgba(0, 0, 0, 0.3));\n",
              "      fill: #FFFFFF;\n",
              "    }\n",
              "  </style>\n",
              "\n",
              "      <script>\n",
              "        const buttonEl =\n",
              "          document.querySelector('#df-1537bcd8-1d35-414e-8bf9-40bf95b99ec3 button.colab-df-convert');\n",
              "        buttonEl.style.display =\n",
              "          google.colab.kernel.accessAllowed ? 'block' : 'none';\n",
              "\n",
              "        async function convertToInteractive(key) {\n",
              "          const element = document.querySelector('#df-1537bcd8-1d35-414e-8bf9-40bf95b99ec3');\n",
              "          const dataTable =\n",
              "            await google.colab.kernel.invokeFunction('convertToInteractive',\n",
              "                                                     [key], {});\n",
              "          if (!dataTable) return;\n",
              "\n",
              "          const docLinkHtml = 'Like what you see? Visit the ' +\n",
              "            '<a target=\"_blank\" href=https://colab.research.google.com/notebooks/data_table.ipynb>data table notebook</a>'\n",
              "            + ' to learn more about interactive tables.';\n",
              "          element.innerHTML = '';\n",
              "          dataTable['output_type'] = 'display_data';\n",
              "          await google.colab.output.renderOutput(dataTable, element);\n",
              "          const docLink = document.createElement('div');\n",
              "          docLink.innerHTML = docLinkHtml;\n",
              "          element.appendChild(docLink);\n",
              "        }\n",
              "      </script>\n",
              "    </div>\n",
              "  </div>\n",
              "  "
            ],
            "text/plain": [
              "                model_name  fold_idx  accuracy\n",
              "0   RandomForestClassifier         0  0.123144\n",
              "1   RandomForestClassifier         1  0.123362\n",
              "2   RandomForestClassifier         2  0.122830\n",
              "3   RandomForestClassifier         3  0.122939\n",
              "4   RandomForestClassifier         4  0.124904\n",
              "5                LinearSVC         0  0.415939\n",
              "6                LinearSVC         1  0.406004\n",
              "7                LinearSVC         2  0.417622\n",
              "8                LinearSVC         3  0.413910\n",
              "9                LinearSVC         4  0.417294\n",
              "10           MultinomialNB         0  0.292031\n",
              "11           MultinomialNB         1  0.285808\n",
              "12           MultinomialNB         2  0.288350\n",
              "13           MultinomialNB         3  0.293700\n",
              "14           MultinomialNB         4  0.287586\n",
              "15      LogisticRegression         0  0.392249\n",
              "16      LogisticRegression         1  0.386681\n",
              "17      LogisticRegression         2  0.388034\n",
              "18      LogisticRegression         3  0.393493\n",
              "19      LogisticRegression         4  0.388252"
            ]
          },
          "execution_count": 28,
          "metadata": {},
          "output_type": "execute_result"
        }
      ],
      "source": [
        "cv_df"
      ]
    },
    {
      "cell_type": "markdown",
      "metadata": {},
      "source": [
        "## Models Mean Accuracy"
      ]
    },
    {
      "cell_type": "code",
      "execution_count": 30,
      "metadata": {
        "colab": {
          "base_uri": "https://localhost:8080/"
        },
        "id": "_FWU3DxV9yDu",
        "outputId": "6239a379-014c-4e42-db90-731407832fa7"
      },
      "outputs": [
        {
          "data": {
            "text/plain": [
              "model_name\n",
              "LinearSVC                 0.414154\n",
              "LogisticRegression        0.389742\n",
              "MultinomialNB             0.289495\n",
              "RandomForestClassifier    0.123436\n",
              "Name: accuracy, dtype: float64"
            ]
          },
          "execution_count": 30,
          "metadata": {},
          "output_type": "execute_result"
        }
      ],
      "source": [
        "mean_accuracy = cv_df.groupby('model_name').accuracy.mean()\n",
        "mean_accuracy"
      ]
    },
    {
      "cell_type": "markdown",
      "metadata": {
        "id": "rGhiBDhh9x-X"
      },
      "source": [
        "\n",
        "# Model Preprocessing & Training \"Full Data\"\n",
        "---\n"
      ]
    },
    {
      "cell_type": "markdown",
      "metadata": {},
      "source": [
        "### Using TFIDF"
      ]
    },
    {
      "cell_type": "code",
      "execution_count": null,
      "metadata": {
        "id": "n25w-MK82gRT"
      },
      "outputs": [],
      "source": [
        "tf=TfidfVectorizer()\n",
        "text_tf= tf.fit_transform(data['text'])"
      ]
    },
    {
      "cell_type": "code",
      "execution_count": null,
      "metadata": {
        "id": "XPRYuMBttGcN"
      },
      "outputs": [],
      "source": [
        "import pickle\n",
        "pickle.dump(tf, open(\"tfidf1.pkl\", \"wb\"))"
      ]
    },
    {
      "cell_type": "markdown",
      "metadata": {},
      "source": [
        "### Splitting the dataset"
      ]
    },
    {
      "cell_type": "code",
      "execution_count": null,
      "metadata": {
        "id": "tQlTfqwyAQ-L"
      },
      "outputs": [],
      "source": [
        "X_train, X_test, y_train, y_test = train_test_split(text_tf,data['dialect_cat'], test_size=0.25,random_state=1,stratify = data['dialect_cat'])"
      ]
    },
    {
      "cell_type": "code",
      "execution_count": null,
      "metadata": {},
      "outputs": [],
      "source": [
        "print(X_train.shape)\n",
        "print(y_train.shape)"
      ]
    },
    {
      "cell_type": "markdown",
      "metadata": {},
      "source": [
        "### Model Training"
      ]
    },
    {
      "cell_type": "code",
      "execution_count": null,
      "metadata": {
        "colab": {
          "base_uri": "https://localhost:8080/"
        },
        "id": "KUqkLfGe2sKz",
        "outputId": "51706662-cb06-4a44-ef56-63ca42a09b34"
      },
      "outputs": [
        {
          "data": {
            "text/plain": [
              "array([0.52908297, 0.52561863, 0.52687045, 0.52098981, 0.52576419,\n",
              "       0.52439592, 0.52902475, 0.52669578, 0.53018923, 0.53144105])"
            ]
          },
          "execution_count": 15,
          "metadata": {},
          "output_type": "execute_result"
        }
      ],
      "source": [
        "model = LinearSVC()\n",
        "scores = cross_val_score(model, X_train, y_train,cv=10)\n",
        "scores"
      ]
    },
    {
      "cell_type": "code",
      "execution_count": null,
      "metadata": {
        "id": "APHdkXSuK9Ak"
      },
      "outputs": [],
      "source": [
        "model.fit(X_train, y_train)\n",
        "y_pred = model.predict(X_test)"
      ]
    },
    {
      "cell_type": "markdown",
      "metadata": {},
      "source": [
        "### Model Evaluation"
      ]
    },
    {
      "cell_type": "code",
      "execution_count": null,
      "metadata": {
        "colab": {
          "base_uri": "https://localhost:8080/"
        },
        "id": "zu92csgtLCY7",
        "outputId": "94a563bd-f801-4272-e376-65e160aee427"
      },
      "outputs": [
        {
          "name": "stdout",
          "output_type": "stream",
          "text": [
            "              precision    recall  f1-score   support\n",
            "\n",
            "          IQ       0.60      0.53      0.56      3874\n",
            "          LY       0.64      0.68      0.66      9125\n",
            "          QA       0.46      0.48      0.47      7767\n",
            "          PL       0.47      0.53      0.50     10936\n",
            "          SY       0.46      0.33      0.38      4061\n",
            "          TN       0.68      0.48      0.56      2311\n",
            "          JO       0.40      0.34      0.37      6980\n",
            "          MA       0.74      0.59      0.65      2885\n",
            "          SA       0.41      0.42      0.41      6708\n",
            "          YE       0.37      0.21      0.27      2482\n",
            "          DZ       0.61      0.53      0.57      4046\n",
            "          EG       0.70      0.85      0.77     14409\n",
            "          LB       0.62      0.66      0.64      6904\n",
            "          KW       0.49      0.58      0.53     10527\n",
            "          OM       0.39      0.33      0.36      4779\n",
            "          SD       0.69      0.57      0.62      3609\n",
            "          AE       0.42      0.41      0.42      6574\n",
            "          BH       0.39      0.33      0.36      6524\n",
            "\n",
            "    accuracy                           0.53    114501\n",
            "   macro avg       0.53      0.49      0.51    114501\n",
            "weighted avg       0.53      0.53      0.53    114501\n",
            "\n"
          ]
        }
      ],
      "source": [
        "print(metrics.classification_report(y_test, y_pred, target_names= data['dialect'].unique()))"
      ]
    },
    {
      "cell_type": "code",
      "execution_count": null,
      "metadata": {
        "colab": {
          "base_uri": "https://localhost:8080/"
        },
        "id": "57cDXWwmgZfF",
        "outputId": "66a2765a-f3fe-4361-9acf-a18be7768332"
      },
      "outputs": [
        {
          "data": {
            "text/plain": [
              "0.5342049414415595"
            ]
          },
          "execution_count": 17,
          "metadata": {},
          "output_type": "execute_result"
        }
      ],
      "source": [
        "from sklearn.metrics import accuracy_score\n",
        "accuracy_score(y_test, y_pred)"
      ]
    },
    {
      "cell_type": "code",
      "execution_count": null,
      "metadata": {
        "id": "doS6zE4QjUr9"
      },
      "outputs": [],
      "source": [
        "import pickle\n",
        "filename = 'LinearSVC_model.sav'\n",
        "pickle.dump(model, open(filename, 'wb'))"
      ]
    }
  ],
  "metadata": {
    "accelerator": "GPU",
    "colab": {
      "collapsed_sections": [],
      "name": "EDA&Preprocessing&model.ipynb",
      "provenance": []
    },
    "interpreter": {
      "hash": "20a51e1beb4cdff29a464da3f671b0b26d02f528a1d28d01a169053c45d24011"
    },
    "kernelspec": {
      "display_name": "Python 3.7.3 ('base')",
      "language": "python",
      "name": "python3"
    },
    "language_info": {
      "codemirror_mode": {
        "name": "ipython",
        "version": 3
      },
      "file_extension": ".py",
      "mimetype": "text/x-python",
      "name": "python",
      "nbconvert_exporter": "python",
      "pygments_lexer": "ipython3",
      "version": "3.7.3"
    },
    "orig_nbformat": 4
  },
  "nbformat": 4,
  "nbformat_minor": 0
}
